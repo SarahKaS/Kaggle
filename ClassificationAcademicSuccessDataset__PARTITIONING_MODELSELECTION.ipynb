{
 "cells": [
  {
   "cell_type": "code",
   "execution_count": 66,
   "id": "51c706ed",
   "metadata": {},
   "outputs": [],
   "source": [
    "import pandas as pd\n",
    "import numpy as np\n",
    "import matplotlib.pyplot as plt\n",
    "import seaborn as sns\n",
    "\n",
    "# import warnings\n",
    "# warnings.filterwarnings('ignore')"
   ]
  },
  {
   "cell_type": "code",
   "execution_count": 67,
   "id": "39469773",
   "metadata": {},
   "outputs": [
    {
     "data": {
      "text/html": [
       "<div>\n",
       "<style scoped>\n",
       "    .dataframe tbody tr th:only-of-type {\n",
       "        vertical-align: middle;\n",
       "    }\n",
       "\n",
       "    .dataframe tbody tr th {\n",
       "        vertical-align: top;\n",
       "    }\n",
       "\n",
       "    .dataframe thead th {\n",
       "        text-align: right;\n",
       "    }\n",
       "</style>\n",
       "<table border=\"1\" class=\"dataframe\">\n",
       "  <thead>\n",
       "    <tr style=\"text-align: right;\">\n",
       "      <th></th>\n",
       "      <th>Daytime/evening attendance</th>\n",
       "      <th>Previous qualification (grade)</th>\n",
       "      <th>Admission grade</th>\n",
       "      <th>Displaced</th>\n",
       "      <th>Debtor</th>\n",
       "      <th>Tuition fees up to date</th>\n",
       "      <th>Gender</th>\n",
       "      <th>Scholarship holder</th>\n",
       "      <th>Age at enrollment</th>\n",
       "      <th>Curricular units 1st sem (credited)</th>\n",
       "      <th>...</th>\n",
       "      <th>Course_9238</th>\n",
       "      <th>Course_9853</th>\n",
       "      <th>Father student</th>\n",
       "      <th>Father intermediate technicians and professionals</th>\n",
       "      <th>Father in personal service</th>\n",
       "      <th>Father other situations and unknown</th>\n",
       "      <th>Mother student</th>\n",
       "      <th>Mother no education</th>\n",
       "      <th>Father basic education</th>\n",
       "      <th>Target</th>\n",
       "    </tr>\n",
       "  </thead>\n",
       "  <tbody>\n",
       "    <tr>\n",
       "      <th>0</th>\n",
       "      <td>1</td>\n",
       "      <td>126.0</td>\n",
       "      <td>122.6</td>\n",
       "      <td>0</td>\n",
       "      <td>0</td>\n",
       "      <td>1</td>\n",
       "      <td>0</td>\n",
       "      <td>1</td>\n",
       "      <td>18</td>\n",
       "      <td>0</td>\n",
       "      <td>...</td>\n",
       "      <td>1</td>\n",
       "      <td>0</td>\n",
       "      <td>0</td>\n",
       "      <td>0</td>\n",
       "      <td>1</td>\n",
       "      <td>0</td>\n",
       "      <td>0</td>\n",
       "      <td>0</td>\n",
       "      <td>1</td>\n",
       "      <td>Graduate</td>\n",
       "    </tr>\n",
       "    <tr>\n",
       "      <th>1</th>\n",
       "      <td>1</td>\n",
       "      <td>125.0</td>\n",
       "      <td>119.8</td>\n",
       "      <td>1</td>\n",
       "      <td>0</td>\n",
       "      <td>1</td>\n",
       "      <td>0</td>\n",
       "      <td>0</td>\n",
       "      <td>18</td>\n",
       "      <td>0</td>\n",
       "      <td>...</td>\n",
       "      <td>1</td>\n",
       "      <td>0</td>\n",
       "      <td>0</td>\n",
       "      <td>0</td>\n",
       "      <td>0</td>\n",
       "      <td>0</td>\n",
       "      <td>0</td>\n",
       "      <td>0</td>\n",
       "      <td>1</td>\n",
       "      <td>Dropout</td>\n",
       "    </tr>\n",
       "    <tr>\n",
       "      <th>2</th>\n",
       "      <td>1</td>\n",
       "      <td>137.0</td>\n",
       "      <td>144.7</td>\n",
       "      <td>0</td>\n",
       "      <td>0</td>\n",
       "      <td>1</td>\n",
       "      <td>1</td>\n",
       "      <td>0</td>\n",
       "      <td>18</td>\n",
       "      <td>0</td>\n",
       "      <td>...</td>\n",
       "      <td>0</td>\n",
       "      <td>0</td>\n",
       "      <td>0</td>\n",
       "      <td>1</td>\n",
       "      <td>0</td>\n",
       "      <td>0</td>\n",
       "      <td>0</td>\n",
       "      <td>0</td>\n",
       "      <td>1</td>\n",
       "      <td>Dropout</td>\n",
       "    </tr>\n",
       "    <tr>\n",
       "      <th>3</th>\n",
       "      <td>1</td>\n",
       "      <td>131.0</td>\n",
       "      <td>126.1</td>\n",
       "      <td>1</td>\n",
       "      <td>0</td>\n",
       "      <td>1</td>\n",
       "      <td>0</td>\n",
       "      <td>1</td>\n",
       "      <td>18</td>\n",
       "      <td>0</td>\n",
       "      <td>...</td>\n",
       "      <td>0</td>\n",
       "      <td>0</td>\n",
       "      <td>0</td>\n",
       "      <td>0</td>\n",
       "      <td>0</td>\n",
       "      <td>0</td>\n",
       "      <td>0</td>\n",
       "      <td>0</td>\n",
       "      <td>0</td>\n",
       "      <td>Enrolled</td>\n",
       "    </tr>\n",
       "    <tr>\n",
       "      <th>4</th>\n",
       "      <td>1</td>\n",
       "      <td>132.0</td>\n",
       "      <td>120.1</td>\n",
       "      <td>1</td>\n",
       "      <td>0</td>\n",
       "      <td>1</td>\n",
       "      <td>0</td>\n",
       "      <td>0</td>\n",
       "      <td>18</td>\n",
       "      <td>0</td>\n",
       "      <td>...</td>\n",
       "      <td>0</td>\n",
       "      <td>0</td>\n",
       "      <td>0</td>\n",
       "      <td>0</td>\n",
       "      <td>0</td>\n",
       "      <td>0</td>\n",
       "      <td>0</td>\n",
       "      <td>0</td>\n",
       "      <td>1</td>\n",
       "      <td>Graduate</td>\n",
       "    </tr>\n",
       "  </tbody>\n",
       "</table>\n",
       "<p>5 rows × 35 columns</p>\n",
       "</div>"
      ],
      "text/plain": [
       "   Daytime/evening attendance  Previous qualification (grade)  \\\n",
       "0                           1                           126.0   \n",
       "1                           1                           125.0   \n",
       "2                           1                           137.0   \n",
       "3                           1                           131.0   \n",
       "4                           1                           132.0   \n",
       "\n",
       "   Admission grade  Displaced  Debtor  Tuition fees up to date  Gender  \\\n",
       "0            122.6          0       0                        1       0   \n",
       "1            119.8          1       0                        1       0   \n",
       "2            144.7          0       0                        1       1   \n",
       "3            126.1          1       0                        1       0   \n",
       "4            120.1          1       0                        1       0   \n",
       "\n",
       "   Scholarship holder  Age at enrollment  Curricular units 1st sem (credited)  \\\n",
       "0                   1                 18                                    0   \n",
       "1                   0                 18                                    0   \n",
       "2                   0                 18                                    0   \n",
       "3                   1                 18                                    0   \n",
       "4                   0                 18                                    0   \n",
       "\n",
       "   ...  Course_9238  Course_9853  Father student  \\\n",
       "0  ...            1            0               0   \n",
       "1  ...            1            0               0   \n",
       "2  ...            0            0               0   \n",
       "3  ...            0            0               0   \n",
       "4  ...            0            0               0   \n",
       "\n",
       "   Father intermediate technicians and professionals  \\\n",
       "0                                                  0   \n",
       "1                                                  0   \n",
       "2                                                  1   \n",
       "3                                                  0   \n",
       "4                                                  0   \n",
       "\n",
       "   Father in personal service  Father other situations and unknown  \\\n",
       "0                           1                                    0   \n",
       "1                           0                                    0   \n",
       "2                           0                                    0   \n",
       "3                           0                                    0   \n",
       "4                           0                                    0   \n",
       "\n",
       "   Mother student  Mother no education  Father basic education    Target  \n",
       "0               0                    0                       1  Graduate  \n",
       "1               0                    0                       1   Dropout  \n",
       "2               0                    0                       1   Dropout  \n",
       "3               0                    0                       0  Enrolled  \n",
       "4               0                    0                       1  Graduate  \n",
       "\n",
       "[5 rows x 35 columns]"
      ]
     },
     "execution_count": 67,
     "metadata": {},
     "output_type": "execute_result"
    }
   ],
   "source": [
    "# read our data\n",
    "df = pd.read_csv(R\"D:\\OneDrive\\Documents\\DATA SCIENCE\\KAGGLE\\ClassificationWithAnAcademicSuccessDataset\\data\\playground-series-s4e6\\data2.csv\")\n",
    "df = df.drop(['Unnamed: 0'], axis=1)\n",
    "df.head()"
   ]
  },
  {
   "cell_type": "markdown",
   "id": "50060324",
   "metadata": {},
   "source": [
    "# Partitioning\n",
    " \n",
    "Our data is now ready for modeling so we have to split it to subsets in order to train the model and test it. Our test subset will be held until the end of the training (on the train subset) and then used to test our final model. We will create one more subset - validation/dev subset - that will be used for unbiased model evaluation during hyperparameter tuning.\n",
    "\n",
    "This partitionning method will also help us to avoid over/underfitting.\n"
   ]
  },
  {
   "cell_type": "code",
   "execution_count": 68,
   "id": "03ac5c8f",
   "metadata": {},
   "outputs": [],
   "source": [
    "from sklearn.model_selection import train_test_split\n",
    "from sklearn.preprocessing import StandardScaler"
   ]
  },
  {
   "cell_type": "code",
   "execution_count": 69,
   "id": "a846019f",
   "metadata": {},
   "outputs": [],
   "source": [
    "# Choosing target variable and feature matrix\n",
    "\n",
    "X = df.drop(\"Target\",1)   # Feature Matrix\n",
    "y = df[\"Target\"]          # Target Variable"
   ]
  },
  {
   "cell_type": "code",
   "execution_count": 70,
   "id": "b6b6427e",
   "metadata": {},
   "outputs": [],
   "source": [
    "# Test dataset: 20%\n",
    "\n",
    "X_train, X_testdev, y_train, y_testdev = train_test_split(X, y, test_size=0.2, random_state=1)"
   ]
  },
  {
   "cell_type": "code",
   "execution_count": 71,
   "id": "21c75732",
   "metadata": {},
   "outputs": [],
   "source": [
    "# Split the X_traindev to X_train and X_dev, same for y.\n",
    "# Train dataset: 80% of the traindev data\n",
    "\n",
    "X_dev, X_test, y_dev, y_test = train_test_split(X_testdev, y_testdev, test_size=0.2, random_state=1)"
   ]
  },
  {
   "cell_type": "markdown",
   "id": "43813943",
   "metadata": {},
   "source": [
    "Partitioning for Standardized data"
   ]
  },
  {
   "cell_type": "code",
   "execution_count": 72,
   "id": "72d91c06",
   "metadata": {},
   "outputs": [],
   "source": [
    "# Scale the data\n",
    "scaler = StandardScaler()\n",
    "X_scaled = scaler.fit_transform(X)\n"
   ]
  },
  {
   "cell_type": "code",
   "execution_count": 73,
   "id": "243320aa",
   "metadata": {},
   "outputs": [],
   "source": [
    "# Test dataset: 20%\n",
    "\n",
    "X_train_scaled, X_testdev_scaled, y_train_scaled, y_testdev_scaled = train_test_split(X_scaled, y, test_size=0.2, random_state=1)"
   ]
  },
  {
   "cell_type": "code",
   "execution_count": 74,
   "id": "6b8bcc1d",
   "metadata": {},
   "outputs": [],
   "source": [
    "# Split the X_traindev to X_train and X_dev, same for y.\n",
    "# Train dataset: 80% of the traindev data\n",
    "\n",
    "X_dev_scaled, X_test_scaled, y_dev_scaled, y_test_scaled = train_test_split(X_testdev_scaled, y_testdev_scaled, test_size=0.2, random_state=1)\n"
   ]
  },
  {
   "cell_type": "code",
   "execution_count": 75,
   "id": "2afd530d",
   "metadata": {},
   "outputs": [
    {
     "data": {
      "text/plain": [
       "(76518,)"
      ]
     },
     "execution_count": 75,
     "metadata": {},
     "output_type": "execute_result"
    }
   ],
   "source": [
    "y.shape"
   ]
  },
  {
   "cell_type": "code",
   "execution_count": 76,
   "id": "8f45ae07",
   "metadata": {},
   "outputs": [
    {
     "data": {
      "text/plain": [
       "(12243,)"
      ]
     },
     "execution_count": 76,
     "metadata": {},
     "output_type": "execute_result"
    }
   ],
   "source": [
    "y_dev.shape"
   ]
  },
  {
   "cell_type": "code",
   "execution_count": 77,
   "id": "af6ed6d5",
   "metadata": {},
   "outputs": [
    {
     "data": {
      "text/plain": [
       "(61214,)"
      ]
     },
     "execution_count": 77,
     "metadata": {},
     "output_type": "execute_result"
    }
   ],
   "source": [
    "y_train.shape"
   ]
  },
  {
   "cell_type": "code",
   "execution_count": 78,
   "id": "a0bb9bf6",
   "metadata": {},
   "outputs": [
    {
     "data": {
      "text/plain": [
       "(3061,)"
      ]
     },
     "execution_count": 78,
     "metadata": {},
     "output_type": "execute_result"
    }
   ],
   "source": [
    "y_test.shape"
   ]
  },
  {
   "cell_type": "code",
   "execution_count": 79,
   "id": "d4c72dc2",
   "metadata": {},
   "outputs": [
    {
     "data": {
      "text/plain": [
       "Graduate    36282\n",
       "Dropout     25296\n",
       "Enrolled    14940\n",
       "Name: Target, dtype: int64"
      ]
     },
     "execution_count": 79,
     "metadata": {},
     "output_type": "execute_result"
    }
   ],
   "source": [
    "df['Target'].value_counts()"
   ]
  },
  {
   "cell_type": "markdown",
   "id": "e7e19e14",
   "metadata": {},
   "source": [
    "# Metric Selection"
   ]
  },
  {
   "cell_type": "markdown",
   "id": "b0a79686",
   "metadata": {},
   "source": [
    "Since Kaggle submissions are evaluated using the accuracy score for this task, we will use Accuracy metric to find which model is the best for our case "
   ]
  },
  {
   "cell_type": "code",
   "execution_count": 92,
   "id": "57948791",
   "metadata": {},
   "outputs": [],
   "source": [
    "from sklearn import metrics\n",
    "from sklearn.metrics import accuracy_score"
   ]
  },
  {
   "cell_type": "code",
   "execution_count": 81,
   "id": "2214dac6",
   "metadata": {},
   "outputs": [],
   "source": [
    "def classificationMetrics(y, yhat):\n",
    "    res = {'Accuracy': metrics.accuracy_score(y,yhat)}\n",
    "    return res"
   ]
  },
  {
   "cell_type": "code",
   "execution_count": 82,
   "id": "4f70ea9a",
   "metadata": {},
   "outputs": [],
   "source": [
    "from sklearn.linear_model import LogisticRegression\n",
    "from sklearn.tree import DecisionTreeClassifier\n",
    "from sklearn.ensemble import RandomForestClassifier, AdaBoostClassifier, GradientBoostingClassifier\n",
    "from sklearn.svm import SVC\n",
    "from sklearn.neighbors import KNeighborsClassifier"
   ]
  },
  {
   "cell_type": "code",
   "execution_count": 83,
   "id": "ac0b8f9c",
   "metadata": {},
   "outputs": [],
   "source": [
    "models_list = pd.DataFrame()"
   ]
  },
  {
   "cell_type": "markdown",
   "id": "c0a5e6ab",
   "metadata": {},
   "source": [
    "### Logistic Regression"
   ]
  },
  {
   "cell_type": "code",
   "execution_count": 84,
   "id": "bd07d30a",
   "metadata": {
    "scrolled": true
   },
   "outputs": [],
   "source": [
    "# We will use here standardized data \n",
    "mod1 = LogisticRegression(max_iter=1000, solver='lbfgs')\n",
    "mod1.fit(X_train_scaled, y_train_scaled)\n",
    "\n",
    "pred1 = mod1.predict(X_dev_scaled)"
   ]
  },
  {
   "cell_type": "code",
   "execution_count": 85,
   "id": "42e468c4",
   "metadata": {},
   "outputs": [
    {
     "data": {
      "text/plain": [
       "{'Accuracy': 0.8178551008739688}"
      ]
     },
     "execution_count": 85,
     "metadata": {},
     "output_type": "execute_result"
    }
   ],
   "source": [
    "classificationMetrics(y_dev_scaled, pred1)"
   ]
  },
  {
   "cell_type": "code",
   "execution_count": 87,
   "id": "b4819d6d",
   "metadata": {},
   "outputs": [
    {
     "data": {
      "text/html": [
       "<div>\n",
       "<style scoped>\n",
       "    .dataframe tbody tr th:only-of-type {\n",
       "        vertical-align: middle;\n",
       "    }\n",
       "\n",
       "    .dataframe tbody tr th {\n",
       "        vertical-align: top;\n",
       "    }\n",
       "\n",
       "    .dataframe thead th {\n",
       "        text-align: right;\n",
       "    }\n",
       "</style>\n",
       "<table border=\"1\" class=\"dataframe\">\n",
       "  <thead>\n",
       "    <tr style=\"text-align: right;\">\n",
       "      <th></th>\n",
       "      <th>model</th>\n",
       "      <th>Accuracy</th>\n",
       "    </tr>\n",
       "  </thead>\n",
       "  <tbody>\n",
       "    <tr>\n",
       "      <th>0</th>\n",
       "      <td>Logistic Regression</td>\n",
       "      <td>0.817855</td>\n",
       "    </tr>\n",
       "  </tbody>\n",
       "</table>\n",
       "</div>"
      ],
      "text/plain": [
       "                 model  Accuracy\n",
       "0  Logistic Regression  0.817855"
      ]
     },
     "execution_count": 87,
     "metadata": {},
     "output_type": "execute_result"
    }
   ],
   "source": [
    "# Create a dictionary with the model name and metrics\n",
    "model_dict = {'model': \"Logistic Regression\"}\n",
    "\n",
    "# Assume classificationMetrics is a function that returns a dictionary of metrics\n",
    "metrics = classificationMetrics(y_dev_scaled, pred1)\n",
    "\n",
    "# Convert the dictionary to a DataFrame\n",
    "metrics_df = pd.DataFrame([{**model_dict, **metrics}])\n",
    "\n",
    "# Append to models_list using pd.concat\n",
    "models_list = pd.concat([models_list, metrics_df], ignore_index=True)\n",
    "\n",
    "# Display the updated DataFrame\n",
    "models_list"
   ]
  },
  {
   "cell_type": "code",
   "execution_count": 96,
   "id": "13df32cc",
   "metadata": {},
   "outputs": [
    {
     "data": {
      "text/html": [
       "<div>\n",
       "<style scoped>\n",
       "    .dataframe tbody tr th:only-of-type {\n",
       "        vertical-align: middle;\n",
       "    }\n",
       "\n",
       "    .dataframe tbody tr th {\n",
       "        vertical-align: top;\n",
       "    }\n",
       "\n",
       "    .dataframe thead th {\n",
       "        text-align: right;\n",
       "    }\n",
       "</style>\n",
       "<table border=\"1\" class=\"dataframe\">\n",
       "  <thead>\n",
       "    <tr style=\"text-align: right;\">\n",
       "      <th>Target</th>\n",
       "      <th>Dropout</th>\n",
       "      <th>Enrolled</th>\n",
       "      <th>Graduate</th>\n",
       "    </tr>\n",
       "    <tr>\n",
       "      <th>row_0</th>\n",
       "      <th></th>\n",
       "      <th></th>\n",
       "      <th></th>\n",
       "    </tr>\n",
       "  </thead>\n",
       "  <tbody>\n",
       "    <tr>\n",
       "      <th>Dropout</th>\n",
       "      <td>3232</td>\n",
       "      <td>282</td>\n",
       "      <td>125</td>\n",
       "    </tr>\n",
       "    <tr>\n",
       "      <th>Enrolled</th>\n",
       "      <td>472</td>\n",
       "      <td>1358</td>\n",
       "      <td>318</td>\n",
       "    </tr>\n",
       "    <tr>\n",
       "      <th>Graduate</th>\n",
       "      <td>263</td>\n",
       "      <td>770</td>\n",
       "      <td>5423</td>\n",
       "    </tr>\n",
       "  </tbody>\n",
       "</table>\n",
       "</div>"
      ],
      "text/plain": [
       "Target    Dropout  Enrolled  Graduate\n",
       "row_0                                \n",
       "Dropout      3232       282       125\n",
       "Enrolled      472      1358       318\n",
       "Graduate      263       770      5423"
      ]
     },
     "execution_count": 96,
     "metadata": {},
     "output_type": "execute_result"
    }
   ],
   "source": [
    "pd.crosstab(pred1, y_dev_scaled)"
   ]
  },
  {
   "attachments": {
    "image-3.png": {
     "image/png": "[encoded data removed]"
    }
   },
   "cell_type": "markdown",
   "id": "75af5a57",
   "metadata": {},
   "source": [
    "columns: predicted data\n",
    "lines: actual data\n",
    "![image-3.png](attachment:image-3.png)"
   ]
  },
  {
   "cell_type": "code",
   "execution_count": 98,
   "id": "b50efc66",
   "metadata": {},
   "outputs": [],
   "source": [
    "pred1a = mod1.predict_proba(X_dev_scaled)"
   ]
  },
  {
   "cell_type": "markdown",
   "id": "0eee7986",
   "metadata": {},
   "source": [
    "### Decision Tree"
   ]
  },
  {
   "cell_type": "code",
   "execution_count": 90,
   "id": "7393ba81",
   "metadata": {},
   "outputs": [
    {
     "data": {
      "text/plain": [
       "DecisionTreeClassifier(random_state=1)"
      ]
     },
     "execution_count": 90,
     "metadata": {},
     "output_type": "execute_result"
    }
   ],
   "source": [
    "mod2 = DecisionTreeClassifier(random_state=1)\n",
    "mod2.fit(X_train,y_train)"
   ]
  },
  {
   "cell_type": "code",
   "execution_count": 94,
   "id": "ce03e1cb",
   "metadata": {},
   "outputs": [
    {
     "data": {
      "text/html": [
       "<div>\n",
       "<style scoped>\n",
       "    .dataframe tbody tr th:only-of-type {\n",
       "        vertical-align: middle;\n",
       "    }\n",
       "\n",
       "    .dataframe tbody tr th {\n",
       "        vertical-align: top;\n",
       "    }\n",
       "\n",
       "    .dataframe thead th {\n",
       "        text-align: right;\n",
       "    }\n",
       "</style>\n",
       "<table border=\"1\" class=\"dataframe\">\n",
       "  <thead>\n",
       "    <tr style=\"text-align: right;\">\n",
       "      <th></th>\n",
       "      <th>model</th>\n",
       "      <th>Accuracy</th>\n",
       "    </tr>\n",
       "  </thead>\n",
       "  <tbody>\n",
       "    <tr>\n",
       "      <th>0</th>\n",
       "      <td>Logistic Regression</td>\n",
       "      <td>0.817855</td>\n",
       "    </tr>\n",
       "    <tr>\n",
       "      <th>1</th>\n",
       "      <td>Decision Tree</td>\n",
       "      <td>0.738136</td>\n",
       "    </tr>\n",
       "  </tbody>\n",
       "</table>\n",
       "</div>"
      ],
      "text/plain": [
       "                 model  Accuracy\n",
       "0  Logistic Regression  0.817855\n",
       "1        Decision Tree  0.738136"
      ]
     },
     "execution_count": 94,
     "metadata": {},
     "output_type": "execute_result"
    }
   ],
   "source": [
    "# Define the classificationMetrics function\n",
    "def classificationMetrics(y, yhat):\n",
    "    res = {'Accuracy': metrics.accuracy_score(y, yhat)}\n",
    "    return res\n",
    "\n",
    "pred2 = mod2.predict(X_dev)\n",
    "model_dict = {'model': \"Decision Tree\"}\n",
    "\n",
    "# Convert the dictionary to a DataFrame\n",
    "metrics_df = pd.DataFrame([{**model_dict, **classificationMetrics(y_dev, pred2)}])\n",
    "\n",
    "# Append to models_list using pd.concat\n",
    "models_list = pd.concat([models_list, metrics_df], ignore_index=True)\n",
    "\n",
    "models_list"
   ]
  },
  {
   "cell_type": "code",
   "execution_count": 95,
   "id": "14aef9ad",
   "metadata": {},
   "outputs": [
    {
     "data": {
      "text/html": [
       "<div>\n",
       "<style scoped>\n",
       "    .dataframe tbody tr th:only-of-type {\n",
       "        vertical-align: middle;\n",
       "    }\n",
       "\n",
       "    .dataframe tbody tr th {\n",
       "        vertical-align: top;\n",
       "    }\n",
       "\n",
       "    .dataframe thead th {\n",
       "        text-align: right;\n",
       "    }\n",
       "</style>\n",
       "<table border=\"1\" class=\"dataframe\">\n",
       "  <thead>\n",
       "    <tr style=\"text-align: right;\">\n",
       "      <th>col_0</th>\n",
       "      <th>Dropout</th>\n",
       "      <th>Enrolled</th>\n",
       "      <th>Graduate</th>\n",
       "    </tr>\n",
       "    <tr>\n",
       "      <th>Target</th>\n",
       "      <th></th>\n",
       "      <th></th>\n",
       "      <th></th>\n",
       "    </tr>\n",
       "  </thead>\n",
       "  <tbody>\n",
       "    <tr>\n",
       "      <th>Dropout</th>\n",
       "      <td>3085</td>\n",
       "      <td>579</td>\n",
       "      <td>303</td>\n",
       "    </tr>\n",
       "    <tr>\n",
       "      <th>Enrolled</th>\n",
       "      <td>567</td>\n",
       "      <td>1164</td>\n",
       "      <td>679</td>\n",
       "    </tr>\n",
       "    <tr>\n",
       "      <th>Graduate</th>\n",
       "      <td>331</td>\n",
       "      <td>747</td>\n",
       "      <td>4788</td>\n",
       "    </tr>\n",
       "  </tbody>\n",
       "</table>\n",
       "</div>"
      ],
      "text/plain": [
       "col_0     Dropout  Enrolled  Graduate\n",
       "Target                               \n",
       "Dropout      3085       579       303\n",
       "Enrolled      567      1164       679\n",
       "Graduate      331       747      4788"
      ]
     },
     "execution_count": 95,
     "metadata": {},
     "output_type": "execute_result"
    }
   ],
   "source": [
    "pd.crosstab(y_dev, pred2)"
   ]
  },
  {
   "cell_type": "markdown",
   "id": "92300ff2",
   "metadata": {},
   "source": [
    "### Random Forest"
   ]
  },
  {
   "cell_type": "code",
   "execution_count": 101,
   "id": "0fd31947",
   "metadata": {},
   "outputs": [
    {
     "data": {
      "text/plain": [
       "RandomForestClassifier(random_state=1)"
      ]
     },
     "execution_count": 101,
     "metadata": {},
     "output_type": "execute_result"
    }
   ],
   "source": [
    "mod3 = RandomForestClassifier(random_state=1)\n",
    "mod3.fit(X_train,y_train)"
   ]
  },
  {
   "cell_type": "code",
   "execution_count": 102,
   "id": "12095016",
   "metadata": {},
   "outputs": [
    {
     "data": {
      "text/html": [
       "<div>\n",
       "<style scoped>\n",
       "    .dataframe tbody tr th:only-of-type {\n",
       "        vertical-align: middle;\n",
       "    }\n",
       "\n",
       "    .dataframe tbody tr th {\n",
       "        vertical-align: top;\n",
       "    }\n",
       "\n",
       "    .dataframe thead th {\n",
       "        text-align: right;\n",
       "    }\n",
       "</style>\n",
       "<table border=\"1\" class=\"dataframe\">\n",
       "  <thead>\n",
       "    <tr style=\"text-align: right;\">\n",
       "      <th></th>\n",
       "      <th>model</th>\n",
       "      <th>Accuracy</th>\n",
       "    </tr>\n",
       "  </thead>\n",
       "  <tbody>\n",
       "    <tr>\n",
       "      <th>0</th>\n",
       "      <td>Logistic Regression</td>\n",
       "      <td>0.817855</td>\n",
       "    </tr>\n",
       "    <tr>\n",
       "      <th>1</th>\n",
       "      <td>Decision Tree</td>\n",
       "      <td>0.738136</td>\n",
       "    </tr>\n",
       "    <tr>\n",
       "      <th>2</th>\n",
       "      <td>RandomForest</td>\n",
       "      <td>0.999837</td>\n",
       "    </tr>\n",
       "    <tr>\n",
       "      <th>3</th>\n",
       "      <td>RandomForest</td>\n",
       "      <td>0.826513</td>\n",
       "    </tr>\n",
       "  </tbody>\n",
       "</table>\n",
       "</div>"
      ],
      "text/plain": [
       "                 model  Accuracy\n",
       "0  Logistic Regression  0.817855\n",
       "1        Decision Tree  0.738136\n",
       "2         RandomForest  0.999837\n",
       "3         RandomForest  0.826513"
      ]
     },
     "execution_count": 102,
     "metadata": {},
     "output_type": "execute_result"
    }
   ],
   "source": [
    "pred3 = mod3.predict(X_dev)\n",
    "model_dict = {'model': \"RandomForest\"}\n",
    "\n",
    "metrics_dict = classificationMetrics(y_dev, pred3)\n",
    "\n",
    "# Append to models_list using pd.concat\n",
    "new_row = pd.DataFrame({**model_dict, **metrics_dict}, index=[0])\n",
    "models_list = pd.concat([models_list, new_row], ignore_index=True)\n",
    "\n",
    "models_list"
   ]
  },
  {
   "cell_type": "code",
   "execution_count": 103,
   "id": "64a312f3",
   "metadata": {},
   "outputs": [
    {
     "data": {
      "text/plain": [
       "<AxesSubplot:ylabel='Count'>"
      ]
     },
     "execution_count": 103,
     "metadata": {},
     "output_type": "execute_result"
    },
    {
     "data": {
      "image/png": "[encoded data removed]",
      "text/plain": [
       "<Figure size 432x288 with 1 Axes>"
      ]
     },
     "metadata": {
      "needs_background": "light"
     },
     "output_type": "display_data"
    }
   ],
   "source": [
    "pred3a = mod3.predict_proba(X_dev)\n",
    "# sns.distplot(pred3a)\n",
    "sns.histplot(pred3a)"
   ]
  },
  {
   "cell_type": "code",
   "execution_count": 104,
   "id": "bdf8f824",
   "metadata": {},
   "outputs": [
    {
     "data": {
      "text/html": [
       "<div>\n",
       "<style scoped>\n",
       "    .dataframe tbody tr th:only-of-type {\n",
       "        vertical-align: middle;\n",
       "    }\n",
       "\n",
       "    .dataframe tbody tr th {\n",
       "        vertical-align: top;\n",
       "    }\n",
       "\n",
       "    .dataframe thead th {\n",
       "        text-align: right;\n",
       "    }\n",
       "</style>\n",
       "<table border=\"1\" class=\"dataframe\">\n",
       "  <thead>\n",
       "    <tr style=\"text-align: right;\">\n",
       "      <th>col_0</th>\n",
       "      <th>Dropout</th>\n",
       "      <th>Enrolled</th>\n",
       "      <th>Graduate</th>\n",
       "    </tr>\n",
       "    <tr>\n",
       "      <th>Target</th>\n",
       "      <th></th>\n",
       "      <th></th>\n",
       "      <th></th>\n",
       "    </tr>\n",
       "  </thead>\n",
       "  <tbody>\n",
       "    <tr>\n",
       "      <th>Dropout</th>\n",
       "      <td>3250</td>\n",
       "      <td>454</td>\n",
       "      <td>263</td>\n",
       "    </tr>\n",
       "    <tr>\n",
       "      <th>Enrolled</th>\n",
       "      <td>282</td>\n",
       "      <td>1452</td>\n",
       "      <td>676</td>\n",
       "    </tr>\n",
       "    <tr>\n",
       "      <th>Graduate</th>\n",
       "      <td>84</td>\n",
       "      <td>365</td>\n",
       "      <td>5417</td>\n",
       "    </tr>\n",
       "  </tbody>\n",
       "</table>\n",
       "</div>"
      ],
      "text/plain": [
       "col_0     Dropout  Enrolled  Graduate\n",
       "Target                               \n",
       "Dropout      3250       454       263\n",
       "Enrolled      282      1452       676\n",
       "Graduate       84       365      5417"
      ]
     },
     "execution_count": 104,
     "metadata": {},
     "output_type": "execute_result"
    }
   ],
   "source": [
    "pd.crosstab(y_dev, pred3)"
   ]
  },
  {
   "cell_type": "markdown",
   "id": "b4a94e8e",
   "metadata": {},
   "source": [
    "### Adaptive Boosting (ADABoost)"
   ]
  },
  {
   "cell_type": "code",
   "execution_count": 107,
   "id": "c8c20861",
   "metadata": {},
   "outputs": [
    {
     "data": {
      "text/plain": [
       "AdaBoostClassifier(random_state=1)"
      ]
     },
     "execution_count": 107,
     "metadata": {},
     "output_type": "execute_result"
    }
   ],
   "source": [
    "mod4 = AdaBoostClassifier(random_state=1)\n",
    "mod4.fit(X_train,y_train)"
   ]
  },
  {
   "cell_type": "code",
   "execution_count": 108,
   "id": "906bf2d5",
   "metadata": {},
   "outputs": [
    {
     "data": {
      "text/html": [
       "<div>\n",
       "<style scoped>\n",
       "    .dataframe tbody tr th:only-of-type {\n",
       "        vertical-align: middle;\n",
       "    }\n",
       "\n",
       "    .dataframe tbody tr th {\n",
       "        vertical-align: top;\n",
       "    }\n",
       "\n",
       "    .dataframe thead th {\n",
       "        text-align: right;\n",
       "    }\n",
       "</style>\n",
       "<table border=\"1\" class=\"dataframe\">\n",
       "  <thead>\n",
       "    <tr style=\"text-align: right;\">\n",
       "      <th></th>\n",
       "      <th>model</th>\n",
       "      <th>Accuracy</th>\n",
       "    </tr>\n",
       "  </thead>\n",
       "  <tbody>\n",
       "    <tr>\n",
       "      <th>0</th>\n",
       "      <td>Logistic Regression</td>\n",
       "      <td>0.817855</td>\n",
       "    </tr>\n",
       "    <tr>\n",
       "      <th>1</th>\n",
       "      <td>Decision Tree</td>\n",
       "      <td>0.738136</td>\n",
       "    </tr>\n",
       "    <tr>\n",
       "      <th>2</th>\n",
       "      <td>RandomForest</td>\n",
       "      <td>0.999837</td>\n",
       "    </tr>\n",
       "    <tr>\n",
       "      <th>3</th>\n",
       "      <td>RandomForest</td>\n",
       "      <td>0.826513</td>\n",
       "    </tr>\n",
       "    <tr>\n",
       "      <th>4</th>\n",
       "      <td>ADABoost</td>\n",
       "      <td>0.817855</td>\n",
       "    </tr>\n",
       "    <tr>\n",
       "      <th>5</th>\n",
       "      <td>ADABoost</td>\n",
       "      <td>0.818182</td>\n",
       "    </tr>\n",
       "  </tbody>\n",
       "</table>\n",
       "</div>"
      ],
      "text/plain": [
       "                 model  Accuracy\n",
       "0  Logistic Regression  0.817855\n",
       "1        Decision Tree  0.738136\n",
       "2         RandomForest  0.999837\n",
       "3         RandomForest  0.826513\n",
       "4             ADABoost  0.817855\n",
       "5             ADABoost  0.818182"
      ]
     },
     "execution_count": 108,
     "metadata": {},
     "output_type": "execute_result"
    }
   ],
   "source": [
    "pred4 = mod4.predict(X_dev)\n",
    "model_dict = {'model': \"ADABoost\"}\n",
    "models_list = models_list.append({**model_dict, **classificationMetrics(y_dev, pred4)}, ignore_index=True)\n",
    "models_list"
   ]
  },
  {
   "cell_type": "code",
   "execution_count": 109,
   "id": "c81f2e8e",
   "metadata": {},
   "outputs": [
    {
     "data": {
      "text/html": [
       "<div>\n",
       "<style scoped>\n",
       "    .dataframe tbody tr th:only-of-type {\n",
       "        vertical-align: middle;\n",
       "    }\n",
       "\n",
       "    .dataframe tbody tr th {\n",
       "        vertical-align: top;\n",
       "    }\n",
       "\n",
       "    .dataframe thead th {\n",
       "        text-align: right;\n",
       "    }\n",
       "</style>\n",
       "<table border=\"1\" class=\"dataframe\">\n",
       "  <thead>\n",
       "    <tr style=\"text-align: right;\">\n",
       "      <th>col_0</th>\n",
       "      <th>Dropout</th>\n",
       "      <th>Enrolled</th>\n",
       "      <th>Graduate</th>\n",
       "    </tr>\n",
       "    <tr>\n",
       "      <th>Target</th>\n",
       "      <th></th>\n",
       "      <th></th>\n",
       "      <th></th>\n",
       "    </tr>\n",
       "  </thead>\n",
       "  <tbody>\n",
       "    <tr>\n",
       "      <th>Dropout</th>\n",
       "      <td>3142</td>\n",
       "      <td>565</td>\n",
       "      <td>260</td>\n",
       "    </tr>\n",
       "    <tr>\n",
       "      <th>Enrolled</th>\n",
       "      <td>223</td>\n",
       "      <td>1484</td>\n",
       "      <td>703</td>\n",
       "    </tr>\n",
       "    <tr>\n",
       "      <th>Graduate</th>\n",
       "      <td>114</td>\n",
       "      <td>361</td>\n",
       "      <td>5391</td>\n",
       "    </tr>\n",
       "  </tbody>\n",
       "</table>\n",
       "</div>"
      ],
      "text/plain": [
       "col_0     Dropout  Enrolled  Graduate\n",
       "Target                               \n",
       "Dropout      3142       565       260\n",
       "Enrolled      223      1484       703\n",
       "Graduate      114       361      5391"
      ]
     },
     "execution_count": 109,
     "metadata": {},
     "output_type": "execute_result"
    }
   ],
   "source": [
    "pd.crosstab(y_dev, pred4)"
   ]
  },
  {
   "cell_type": "markdown",
   "id": "ad7b1812",
   "metadata": {},
   "source": [
    "### Gradient Boosting Machine (GBM)"
   ]
  },
  {
   "cell_type": "code",
   "execution_count": 110,
   "id": "72a4cd13",
   "metadata": {},
   "outputs": [
    {
     "data": {
      "text/plain": [
       "GradientBoostingClassifier(random_state=1)"
      ]
     },
     "execution_count": 110,
     "metadata": {},
     "output_type": "execute_result"
    }
   ],
   "source": [
    "mod5 = GradientBoostingClassifier(random_state=1)\n",
    "mod5.fit(X_train,y_train)"
   ]
  },
  {
   "cell_type": "code",
   "execution_count": 111,
   "id": "37aee5b0",
   "metadata": {},
   "outputs": [
    {
     "data": {
      "text/html": [
       "<div>\n",
       "<style scoped>\n",
       "    .dataframe tbody tr th:only-of-type {\n",
       "        vertical-align: middle;\n",
       "    }\n",
       "\n",
       "    .dataframe tbody tr th {\n",
       "        vertical-align: top;\n",
       "    }\n",
       "\n",
       "    .dataframe thead th {\n",
       "        text-align: right;\n",
       "    }\n",
       "</style>\n",
       "<table border=\"1\" class=\"dataframe\">\n",
       "  <thead>\n",
       "    <tr style=\"text-align: right;\">\n",
       "      <th></th>\n",
       "      <th>model</th>\n",
       "      <th>Accuracy</th>\n",
       "    </tr>\n",
       "  </thead>\n",
       "  <tbody>\n",
       "    <tr>\n",
       "      <th>0</th>\n",
       "      <td>Logistic Regression</td>\n",
       "      <td>0.817855</td>\n",
       "    </tr>\n",
       "    <tr>\n",
       "      <th>1</th>\n",
       "      <td>Decision Tree</td>\n",
       "      <td>0.738136</td>\n",
       "    </tr>\n",
       "    <tr>\n",
       "      <th>2</th>\n",
       "      <td>RandomForest</td>\n",
       "      <td>0.999837</td>\n",
       "    </tr>\n",
       "    <tr>\n",
       "      <th>3</th>\n",
       "      <td>RandomForest</td>\n",
       "      <td>0.826513</td>\n",
       "    </tr>\n",
       "    <tr>\n",
       "      <th>4</th>\n",
       "      <td>ADABoost</td>\n",
       "      <td>0.817855</td>\n",
       "    </tr>\n",
       "    <tr>\n",
       "      <th>5</th>\n",
       "      <td>ADABoost</td>\n",
       "      <td>0.818182</td>\n",
       "    </tr>\n",
       "    <tr>\n",
       "      <th>6</th>\n",
       "      <td>GBM</td>\n",
       "      <td>0.823981</td>\n",
       "    </tr>\n",
       "  </tbody>\n",
       "</table>\n",
       "</div>"
      ],
      "text/plain": [
       "                 model  Accuracy\n",
       "0  Logistic Regression  0.817855\n",
       "1        Decision Tree  0.738136\n",
       "2         RandomForest  0.999837\n",
       "3         RandomForest  0.826513\n",
       "4             ADABoost  0.817855\n",
       "5             ADABoost  0.818182\n",
       "6                  GBM  0.823981"
      ]
     },
     "execution_count": 111,
     "metadata": {},
     "output_type": "execute_result"
    }
   ],
   "source": [
    "pred5 = mod5.predict(X_dev)\n",
    "model_dict = {'model': \"GBM\"}\n",
    "models_list = models_list.append({**model_dict, **classificationMetrics(y_dev, pred5)}, ignore_index=True)\n",
    "models_list"
   ]
  },
  {
   "cell_type": "code",
   "execution_count": 112,
   "id": "2fc9454f",
   "metadata": {},
   "outputs": [
    {
     "data": {
      "text/html": [
       "<div>\n",
       "<style scoped>\n",
       "    .dataframe tbody tr th:only-of-type {\n",
       "        vertical-align: middle;\n",
       "    }\n",
       "\n",
       "    .dataframe tbody tr th {\n",
       "        vertical-align: top;\n",
       "    }\n",
       "\n",
       "    .dataframe thead th {\n",
       "        text-align: right;\n",
       "    }\n",
       "</style>\n",
       "<table border=\"1\" class=\"dataframe\">\n",
       "  <thead>\n",
       "    <tr style=\"text-align: right;\">\n",
       "      <th>col_0</th>\n",
       "      <th>Dropout</th>\n",
       "      <th>Enrolled</th>\n",
       "      <th>Graduate</th>\n",
       "    </tr>\n",
       "    <tr>\n",
       "      <th>Target</th>\n",
       "      <th></th>\n",
       "      <th></th>\n",
       "      <th></th>\n",
       "    </tr>\n",
       "  </thead>\n",
       "  <tbody>\n",
       "    <tr>\n",
       "      <th>Dropout</th>\n",
       "      <td>3252</td>\n",
       "      <td>452</td>\n",
       "      <td>263</td>\n",
       "    </tr>\n",
       "    <tr>\n",
       "      <th>Enrolled</th>\n",
       "      <td>278</td>\n",
       "      <td>1460</td>\n",
       "      <td>672</td>\n",
       "    </tr>\n",
       "    <tr>\n",
       "      <th>Graduate</th>\n",
       "      <td>95</td>\n",
       "      <td>395</td>\n",
       "      <td>5376</td>\n",
       "    </tr>\n",
       "  </tbody>\n",
       "</table>\n",
       "</div>"
      ],
      "text/plain": [
       "col_0     Dropout  Enrolled  Graduate\n",
       "Target                               \n",
       "Dropout      3252       452       263\n",
       "Enrolled      278      1460       672\n",
       "Graduate       95       395      5376"
      ]
     },
     "execution_count": 112,
     "metadata": {},
     "output_type": "execute_result"
    }
   ],
   "source": [
    "pd.crosstab(y_dev, pred5)"
   ]
  },
  {
   "cell_type": "markdown",
   "id": "0d446c53",
   "metadata": {},
   "source": [
    "### Support Vector Machine (SVM)"
   ]
  },
  {
   "cell_type": "markdown",
   "id": "30f8151c",
   "metadata": {},
   "source": [
    "Here again, standardization is needed."
   ]
  },
  {
   "cell_type": "code",
   "execution_count": 113,
   "id": "d4b8f324",
   "metadata": {},
   "outputs": [
    {
     "data": {
      "text/plain": [
       "SVC(probability=True)"
      ]
     },
     "execution_count": 113,
     "metadata": {},
     "output_type": "execute_result"
    }
   ],
   "source": [
    "mod6 = SVC(probability=True)\n",
    "mod6.fit(X_train_scaled,y_train_scaled)"
   ]
  },
  {
   "cell_type": "code",
   "execution_count": 114,
   "id": "3580fe1c",
   "metadata": {},
   "outputs": [
    {
     "data": {
      "text/html": [
       "<div>\n",
       "<style scoped>\n",
       "    .dataframe tbody tr th:only-of-type {\n",
       "        vertical-align: middle;\n",
       "    }\n",
       "\n",
       "    .dataframe tbody tr th {\n",
       "        vertical-align: top;\n",
       "    }\n",
       "\n",
       "    .dataframe thead th {\n",
       "        text-align: right;\n",
       "    }\n",
       "</style>\n",
       "<table border=\"1\" class=\"dataframe\">\n",
       "  <thead>\n",
       "    <tr style=\"text-align: right;\">\n",
       "      <th></th>\n",
       "      <th>model</th>\n",
       "      <th>Accuracy</th>\n",
       "    </tr>\n",
       "  </thead>\n",
       "  <tbody>\n",
       "    <tr>\n",
       "      <th>0</th>\n",
       "      <td>Logistic Regression</td>\n",
       "      <td>0.817855</td>\n",
       "    </tr>\n",
       "    <tr>\n",
       "      <th>1</th>\n",
       "      <td>Decision Tree</td>\n",
       "      <td>0.738136</td>\n",
       "    </tr>\n",
       "    <tr>\n",
       "      <th>2</th>\n",
       "      <td>RandomForest</td>\n",
       "      <td>0.999837</td>\n",
       "    </tr>\n",
       "    <tr>\n",
       "      <th>3</th>\n",
       "      <td>RandomForest</td>\n",
       "      <td>0.826513</td>\n",
       "    </tr>\n",
       "    <tr>\n",
       "      <th>4</th>\n",
       "      <td>ADABoost</td>\n",
       "      <td>0.817855</td>\n",
       "    </tr>\n",
       "    <tr>\n",
       "      <th>5</th>\n",
       "      <td>ADABoost</td>\n",
       "      <td>0.818182</td>\n",
       "    </tr>\n",
       "    <tr>\n",
       "      <th>6</th>\n",
       "      <td>GBM</td>\n",
       "      <td>0.823981</td>\n",
       "    </tr>\n",
       "    <tr>\n",
       "      <th>7</th>\n",
       "      <td>SVM</td>\n",
       "      <td>0.819897</td>\n",
       "    </tr>\n",
       "  </tbody>\n",
       "</table>\n",
       "</div>"
      ],
      "text/plain": [
       "                 model  Accuracy\n",
       "0  Logistic Regression  0.817855\n",
       "1        Decision Tree  0.738136\n",
       "2         RandomForest  0.999837\n",
       "3         RandomForest  0.826513\n",
       "4             ADABoost  0.817855\n",
       "5             ADABoost  0.818182\n",
       "6                  GBM  0.823981\n",
       "7                  SVM  0.819897"
      ]
     },
     "execution_count": 114,
     "metadata": {},
     "output_type": "execute_result"
    }
   ],
   "source": [
    "pred6 = mod6.predict(X_dev_scaled)\n",
    "model_dict = {'model': \"SVM\"}\n",
    "models_list = models_list.append({**model_dict, **classificationMetrics(y_dev_scaled, pred6)}, ignore_index=True)\n",
    "models_list"
   ]
  },
  {
   "cell_type": "code",
   "execution_count": 115,
   "id": "6670903c",
   "metadata": {},
   "outputs": [
    {
     "data": {
      "text/html": [
       "<div>\n",
       "<style scoped>\n",
       "    .dataframe tbody tr th:only-of-type {\n",
       "        vertical-align: middle;\n",
       "    }\n",
       "\n",
       "    .dataframe tbody tr th {\n",
       "        vertical-align: top;\n",
       "    }\n",
       "\n",
       "    .dataframe thead th {\n",
       "        text-align: right;\n",
       "    }\n",
       "</style>\n",
       "<table border=\"1\" class=\"dataframe\">\n",
       "  <thead>\n",
       "    <tr style=\"text-align: right;\">\n",
       "      <th>col_0</th>\n",
       "      <th>Dropout</th>\n",
       "      <th>Enrolled</th>\n",
       "      <th>Graduate</th>\n",
       "    </tr>\n",
       "    <tr>\n",
       "      <th>Target</th>\n",
       "      <th></th>\n",
       "      <th></th>\n",
       "      <th></th>\n",
       "    </tr>\n",
       "  </thead>\n",
       "  <tbody>\n",
       "    <tr>\n",
       "      <th>Dropout</th>\n",
       "      <td>3131</td>\n",
       "      <td>547</td>\n",
       "      <td>289</td>\n",
       "    </tr>\n",
       "    <tr>\n",
       "      <th>Enrolled</th>\n",
       "      <td>226</td>\n",
       "      <td>1424</td>\n",
       "      <td>760</td>\n",
       "    </tr>\n",
       "    <tr>\n",
       "      <th>Graduate</th>\n",
       "      <td>86</td>\n",
       "      <td>297</td>\n",
       "      <td>5483</td>\n",
       "    </tr>\n",
       "  </tbody>\n",
       "</table>\n",
       "</div>"
      ],
      "text/plain": [
       "col_0     Dropout  Enrolled  Graduate\n",
       "Target                               \n",
       "Dropout      3131       547       289\n",
       "Enrolled      226      1424       760\n",
       "Graduate       86       297      5483"
      ]
     },
     "execution_count": 115,
     "metadata": {},
     "output_type": "execute_result"
    }
   ],
   "source": [
    "pd.crosstab(y_dev_scaled, pred6)"
   ]
  },
  {
   "cell_type": "markdown",
   "id": "58f6a328",
   "metadata": {},
   "source": [
    "## Model Selection"
   ]
  },
  {
   "cell_type": "code",
   "execution_count": 121,
   "id": "3d1f0c7e",
   "metadata": {
    "scrolled": true
   },
   "outputs": [
    {
     "data": {
      "text/html": [
       "<div>\n",
       "<style scoped>\n",
       "    .dataframe tbody tr th:only-of-type {\n",
       "        vertical-align: middle;\n",
       "    }\n",
       "\n",
       "    .dataframe tbody tr th {\n",
       "        vertical-align: top;\n",
       "    }\n",
       "\n",
       "    .dataframe thead th {\n",
       "        text-align: right;\n",
       "    }\n",
       "</style>\n",
       "<table border=\"1\" class=\"dataframe\">\n",
       "  <thead>\n",
       "    <tr style=\"text-align: right;\">\n",
       "      <th></th>\n",
       "      <th>model</th>\n",
       "      <th>Accuracy</th>\n",
       "    </tr>\n",
       "  </thead>\n",
       "  <tbody>\n",
       "    <tr>\n",
       "      <th>2</th>\n",
       "      <td>RandomForest</td>\n",
       "      <td>0.999837</td>\n",
       "    </tr>\n",
       "    <tr>\n",
       "      <th>3</th>\n",
       "      <td>RandomForest</td>\n",
       "      <td>0.826513</td>\n",
       "    </tr>\n",
       "    <tr>\n",
       "      <th>6</th>\n",
       "      <td>GBM</td>\n",
       "      <td>0.823981</td>\n",
       "    </tr>\n",
       "    <tr>\n",
       "      <th>7</th>\n",
       "      <td>SVM</td>\n",
       "      <td>0.819897</td>\n",
       "    </tr>\n",
       "    <tr>\n",
       "      <th>5</th>\n",
       "      <td>ADABoost</td>\n",
       "      <td>0.818182</td>\n",
       "    </tr>\n",
       "    <tr>\n",
       "      <th>0</th>\n",
       "      <td>Logistic Regression</td>\n",
       "      <td>0.817855</td>\n",
       "    </tr>\n",
       "    <tr>\n",
       "      <th>4</th>\n",
       "      <td>ADABoost</td>\n",
       "      <td>0.817855</td>\n",
       "    </tr>\n",
       "    <tr>\n",
       "      <th>1</th>\n",
       "      <td>Decision Tree</td>\n",
       "      <td>0.738136</td>\n",
       "    </tr>\n",
       "  </tbody>\n",
       "</table>\n",
       "</div>"
      ],
      "text/plain": [
       "                 model  Accuracy\n",
       "2         RandomForest  0.999837\n",
       "3         RandomForest  0.826513\n",
       "6                  GBM  0.823981\n",
       "7                  SVM  0.819897\n",
       "5             ADABoost  0.818182\n",
       "0  Logistic Regression  0.817855\n",
       "4             ADABoost  0.817855\n",
       "1        Decision Tree  0.738136"
      ]
     },
     "execution_count": 121,
     "metadata": {},
     "output_type": "execute_result"
    }
   ],
   "source": [
    "models_list.sort_values('Accuracy',ascending=False)"
   ]
  },
  {
   "cell_type": "markdown",
   "id": "c81a78c1",
   "metadata": {},
   "source": [
    "RandomForest and GBM are the best models according to Accuracy metric. Our next step will be Fine-Tuning for hyperparameters optimization using Grid search and Random search."
   ]
  }
 ],
 "metadata": {
  "kernelspec": {
   "display_name": "Python 3 (ipykernel)",
   "language": "python",
   "name": "python3"
  },
  "language_info": {
   "codemirror_mode": {
    "name": "ipython",
    "version": 3
   },
   "file_extension": ".py",
   "mimetype": "text/x-python",
   "name": "python",
   "nbconvert_exporter": "python",
   "pygments_lexer": "ipython3",
   "version": "3.9.12"
  }
 },
 "nbformat": 4,
 "nbformat_minor": 5
}
